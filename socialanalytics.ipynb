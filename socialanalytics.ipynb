{
 "cells": [
  {
   "cell_type": "code",
   "execution_count": 1,
   "metadata": {
    "collapsed": true
   },
   "outputs": [],
   "source": [
    "# In this assignment, you'll create a Python script to perform a sentiment analysis of the Twitter activity of various news oulets,\n",
    "# and to present your findings visually.\n",
    "\n",
    "# Your final output should provide a visualized summary of the sentiments expressed in Tweets sent out by the following news \n",
    "# organizations: BBC, CBS, CNN, Fox, and New York times.\n",
    "\n",
    "# Dependencies\n",
    "import tweepy\n",
    "import json\n",
    "import numpy as np\n",
    "import pandas as pd\n",
    "\n",
    "# Import and Initialize Sentiment Analyzer\n",
    "from vaderSentiment.vaderSentiment import SentimentIntensityAnalyzer\n",
    "analyzer = SentimentIntensityAnalyzer()\n",
    "\n",
    "# Twitter API Keys\n",
    "from config import (consumer_key, \n",
    "                    consumer_secret, \n",
    "                    access_token, \n",
    "                    access_token_secret)\n",
    "\n",
    "# Setup Tweepy API Authentication\n",
    "auth = tweepy.OAuthHandler(consumer_key, consumer_secret)\n",
    "auth.set_access_token(access_token, access_token_secret)\n",
    "api = tweepy.API(auth, parser=tweepy.parsers.JSONParser())"
   ]
  },
  {
   "cell_type": "code",
   "execution_count": 3,
   "metadata": {},
   "outputs": [],
   "source": [
    "# Target Search Term\n",
    "target_term = (\"@CNN\")\n",
    "\n",
    "# \"Real Person\" Filters\n",
    "min_tweets = 5\n",
    "max_tweets = 10000\n",
    "max_followers = 2500\n",
    "max_following = 2500\n",
    "lang = \"en\"\n",
    "\n",
    "# Loop through all target users\n",
    "for target in target_term:\n",
    "\n",
    "    # Variable for holding the oldest tweet\n",
    "    oldest_tweet = None\n",
    "    \n",
    "        # Loop through 10 times\n",
    "    for x in range(1):\n",
    "\n",
    "        # Run search around each tweet\n",
    "        public_tweets = api.search(target_term, count=10, result_type=\"recent\", max_id=oldest_tweet)\n",
    "\n",
    "#         # Loop through all tweets\n",
    "# for tweet in public_tweets[\"statuses\"]:\n",
    "\n",
    "#             # Use filters to check if user meets conditions\n",
    "#         if (tweet[\"user\"][\"followers_count\"] < max_followers\n",
    "#             and tweet[\"user\"][\"statuses_count\"] > min_tweets\n",
    "#             and tweet[\"user\"][\"statuses_count\"] < max_tweets\n",
    "#             and tweet[\"user\"][\"friends_count\"] < max_following\n",
    "#             and tweet[\"user\"][\"lang\"] == lang):\n",
    "\n",
    "\n",
    "\n",
    "# Grab 25 tweets\n",
    "#cnnpublic_tweets = api.search(target_term, count=5, result_type=\"recent\")\n",
    "#print(json.dumps(cnnpublic_tweets, indent=4, sort_keys=True))\n",
    "                    "
   ]
  },
  {
   "cell_type": "code",
   "execution_count": 4,
   "metadata": {
    "collapsed": true
   },
   "outputs": [],
   "source": [
    "count = 1\n",
    "news_df = pd.DataFrame(columns = [\"Channel\", \"Date\", \"Text\", \"Compound_Sentiment\"])"
   ]
  },
  {
   "cell_type": "code",
   "execution_count": 5,
   "metadata": {},
   "outputs": [
    {
     "ename": "TypeError",
     "evalue": "list indices must be integers or slices, not str",
     "output_type": "error",
     "traceback": [
      "\u001b[1;31m---------------------------------------------------------------------------\u001b[0m",
      "\u001b[1;31mTypeError\u001b[0m                                 Traceback (most recent call last)",
      "\u001b[1;32m<ipython-input-5-10e07a51603e>\u001b[0m in \u001b[0;36m<module>\u001b[1;34m()\u001b[0m\n\u001b[0;32m      2\u001b[0m \u001b[1;32mfor\u001b[0m \u001b[0mtarget\u001b[0m \u001b[1;32min\u001b[0m \u001b[0mtarget_term\u001b[0m\u001b[1;33m:\u001b[0m\u001b[1;33m\u001b[0m\u001b[0m\n\u001b[0;32m      3\u001b[0m     \u001b[0mchannel\u001b[0m \u001b[1;33m=\u001b[0m \u001b[0mtarget_term\u001b[0m\u001b[1;33m\u001b[0m\u001b[0m\n\u001b[1;32m----> 4\u001b[1;33m     \u001b[0mdate\u001b[0m \u001b[1;33m=\u001b[0m \u001b[0mpublic_tweets\u001b[0m\u001b[1;33m[\u001b[0m\u001b[1;34m\"statuses\"\u001b[0m\u001b[1;33m]\u001b[0m\u001b[1;33m[\u001b[0m\u001b[1;34m\"created_at\"\u001b[0m\u001b[1;33m]\u001b[0m\u001b[1;33m\u001b[0m\u001b[0m\n\u001b[0m\u001b[0;32m      5\u001b[0m     \u001b[0mtext\u001b[0m \u001b[1;33m=\u001b[0m \u001b[0mpublic_tweets\u001b[0m\u001b[1;33m[\u001b[0m\u001b[1;34m\"statuses\"\u001b[0m\u001b[1;33m]\u001b[0m\u001b[1;33m[\u001b[0m\u001b[1;34m\"text\"\u001b[0m\u001b[1;33m]\u001b[0m\u001b[1;33m\u001b[0m\u001b[0m\n\u001b[0;32m      6\u001b[0m     \u001b[0mnews_df\u001b[0m \u001b[1;33m=\u001b[0m \u001b[0mnews_df\u001b[0m\u001b[1;33m.\u001b[0m\u001b[0mappend\u001b[0m\u001b[1;33m(\u001b[0m\u001b[1;33m{\u001b[0m\u001b[1;34m\"Channel\"\u001b[0m\u001b[1;33m:\u001b[0m\u001b[0mchannel\u001b[0m\u001b[1;33m,\u001b[0m \u001b[1;34m\"Date\"\u001b[0m\u001b[1;33m:\u001b[0m\u001b[0mdate\u001b[0m\u001b[1;33m,\u001b[0m \u001b[1;34m\"Text\"\u001b[0m\u001b[1;33m:\u001b[0m\u001b[0mtext\u001b[0m\u001b[1;33m}\u001b[0m\u001b[1;33m,\u001b[0m \u001b[0mignore_index\u001b[0m\u001b[1;33m=\u001b[0m\u001b[1;32mTrue\u001b[0m\u001b[1;33m)\u001b[0m\u001b[1;33m\u001b[0m\u001b[0m\n",
      "\u001b[1;31mTypeError\u001b[0m: list indices must be integers or slices, not str"
     ]
    }
   ],
   "source": [
    "# # Loop through all tweets\n",
    "for target in target_term:\n",
    "    channel = target_term\n",
    "    date = public_tweets[\"statuses\"][\"created_at\"]\n",
    "    text = public_tweets[\"statuses\"][\"text\"]\n",
    "    news_df = news_df.append({\"Channel\":channel, \"Date\":date, \"Text\":text}, ignore_index=True)\n",
    "    count +=1\n",
    "\n",
    "#     # Run Vader Analysis on each tweet\n",
    "#     results = analyzer.polarity_scores(tweet[\"text\"])\n",
    "#     compound = results[\"compound\"]\n",
    "#     pos = results[\"pos\"]\n",
    "#     neu = results[\"neu\"]\n",
    "#     neg = results[\"neg\"]\n",
    "\n",
    "#     # Add each value to the appropriate array\n",
    "#     compound_list.append(compound)\n",
    "#     positive_list.append(pos)\n",
    "#     negative_list.append(neg)\n",
    "#     neutral_list.append(neu)"
   ]
  },
  {
   "cell_type": "code",
   "execution_count": null,
   "metadata": {
    "collapsed": true
   },
   "outputs": [],
   "source": [
    "# The first plot will be and/or feature the following:\n",
    "\n",
    "# Be a scatter plot of sentiments of the last 100 tweets sent out by each news organization, ranging from -1.0 to 1.0, \n",
    "# where a score of 0 expresses a neutral sentiment, -1 the most negative sentiment possible, and +1 the most positive sentiment \n",
    "# possible.\n",
    "# Each plot point will reflect the compound sentiment of a tweet.\n",
    "# Sort each plot point by its relative timestamp."
   ]
  },
  {
   "cell_type": "code",
   "execution_count": null,
   "metadata": {
    "collapsed": true
   },
   "outputs": [],
   "source": [
    "# The second plot will be a bar plot visualizing the overall sentiments of the last 100 tweets from each organization. \n",
    "# For this plot, you will again aggregate the compound sentiments analyzed by VADER.\n",
    "\n",
    "# The tools of the trade you will need for your task as a data analyst include the following: tweepy, pandas, matplotlib, \n",
    "# seaborn, textblob, and VADER."
   ]
  },
  {
   "cell_type": "code",
   "execution_count": null,
   "metadata": {
    "collapsed": true
   },
   "outputs": [],
   "source": [
    "# Your final Jupyter notebook must:\n",
    "\n",
    "# Pull last 100 tweets from each outlet.\n",
    "# Perform a sentiment analysis with the compound, positive, neutral, and negative scoring for each tweet.\n",
    "# Pull into a DataFrame the tweet's source acount, its text, its date, and its compound, positive, neutral, and negative sentiment scores.\n",
    "# Export the data in the DataFrame into a CSV file.\n",
    "# Save PNG images for each plot."
   ]
  },
  {
   "cell_type": "code",
   "execution_count": null,
   "metadata": {
    "collapsed": true
   },
   "outputs": [],
   "source": [
    "# As final considerations:\n",
    "\n",
    "# Use the Matplotlib and Seaborn libraries.\n",
    "# Include a written description of three observable trends based on the data.\n",
    "# Include proper labeling of your plots, including plot titles (with date of analysis) and axes labels.\n",
    "# Include an exported markdown version of your Notebook called README.md in your GitHub repository."
   ]
  }
 ],
 "metadata": {
  "kernelspec": {
   "display_name": "Python 3",
   "language": "python",
   "name": "python3"
  },
  "language_info": {
   "codemirror_mode": {
    "name": "ipython",
    "version": 3
   },
   "file_extension": ".py",
   "mimetype": "text/x-python",
   "name": "python",
   "nbconvert_exporter": "python",
   "pygments_lexer": "ipython3",
   "version": "3.6.2"
  }
 },
 "nbformat": 4,
 "nbformat_minor": 2
}
